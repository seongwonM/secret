{
 "cells": [
  {
   "cell_type": "code",
   "execution_count": 29,
   "metadata": {},
   "outputs": [
    {
     "name": "stdout",
     "output_type": "stream",
     "text": [
      "{'output': {'iscd_stat_cls_code': '55', 'marg_rate': '20.00', 'rprs_mrkt_kor_name': 'KOSPI200', 'bstp_kor_isnm': '전기.전자', 'temp_stop_yn': 'N', 'oprc_rang_cont_yn': 'N', 'clpr_rang_cont_yn': 'N', 'crdt_able_yn': 'Y', 'grmn_rate_cls_code': '40', 'elw_pblc_yn': 'Y', 'stck_prpr': '75800', 'prdy_vrss': '100', 'prdy_vrss_sign': '2', 'prdy_ctrt': '0.13', 'acml_tr_pbmn': '738995943800', 'acml_vol': '9791532', 'prdy_vrss_vol_rate': '62.34', 'stck_oprc': '74900', 'stck_hgpr': '76100', 'stck_lwpr': '74900', 'stck_mxpr': '98400', 'stck_llam': '53000', 'stck_sdpr': '75700', 'wghn_avrg_stck_prc': '75472.93', 'hts_frgn_ehrt': '55.33', 'frgn_ntby_qty': '0', 'pgtr_ntby_qty': '-941823', 'pvt_scnd_dmrs_prc': '77633', 'pvt_frst_dmrs_prc': '76666', 'pvt_pont_val': '75433', 'pvt_frst_dmsp_prc': '74466', 'pvt_scnd_dmsp_prc': '73233', 'dmrs_val': '77150', 'dmsp_val': '74950', 'cpfn': '7780', 'rstc_wdth_prc': '22700', 'stck_fcam': '100', 'stck_sspr': '60560', 'aspr_unit': '100', 'hts_deal_qty_unit_val': '1', 'lstn_stcn': '5969782550', 'hts_avls': '4525095', 'per': '35.57', 'pbr': '1.46', 'stac_month': '12', 'vol_tnrt': '0.16', 'eps': '2131.00', 'bps': '52002.00', 'd250_hgpr': '86000', 'd250_hgpr_date': '20240408', 'd250_hgpr_vrss_prpr_rate': '-11.86', 'd250_lwpr': '65800', 'd250_lwpr_date': '20230818', 'd250_lwpr_vrss_prpr_rate': '15.20', 'stck_dryy_hgpr': '86000', 'dryy_hgpr_vrss_prpr_rate': '-11.86', 'dryy_hgpr_date': '20240408', 'stck_dryy_lwpr': '70700', 'dryy_lwpr_vrss_prpr_rate': '7.21', 'dryy_lwpr_date': '20240118', 'w52_hgpr': '86000', 'w52_hgpr_vrss_prpr_ctrt': '-11.86', 'w52_hgpr_date': '20240408', 'w52_lwpr': '65800', 'w52_lwpr_vrss_prpr_ctrt': '15.20', 'w52_lwpr_date': '20230818', 'whol_loan_rmnd_rate': '0.16', 'ssts_yn': 'N', 'stck_shrn_iscd': '005930', 'fcam_cnnm': '100', 'cpfn_cnnm': '7,780 억', 'frgn_hldn_qty': '3303367414', 'vi_cls_code': 'N', 'ovtm_vi_cls_code': 'N', 'last_ssts_cntg_qty': '9585', 'invt_caful_yn': 'N', 'mrkt_warn_cls_code': '00', 'short_over_yn': 'N', 'sltr_yn': 'N'}, 'rt_cd': '0', 'msg_cd': 'MCA00000', 'msg1': '정상처리 되었습니다.'}\n"
     ]
    }
   ],
   "source": [
    "# database.py\n",
    "import sqlite3\n",
    "import pandas as pd\n",
    "import yfinance as yf\n",
    "import pytz\n",
    "import datetime\n",
    "import requests\n",
    "import json\n",
    "\n",
    "TOKEN_VALIDITY_DURATION = 3600 * 6\n",
    "\n",
    "APP_KEY='PSScWND75WC1Z0MnkAJVKn0QPkDuQWFoJIna'\n",
    "APP_SECRET='zo7LCl0asaDchwxaa0atzNybas+VulF3KjBPaq4r6/TgcdGIfAnZnjKq5CrSgTzcBXt/30WvDuj0ex0MwxxMab9aI5rMbfaRUTKvB0C6CWEO4CuHYhVsluhSYMNE8R/lIGStVPsVXyoOvUcenWQR56+rRb5rP1BcdHwqfxY1CpFNdlqn6aE='\n",
    "URL_BASE='https://openapi.koreainvestment.com:9443'\n",
    "ACCESS_TOKEN=None\n",
    "code='005930'\n",
    "\n",
    "def get_access_token(APP_KEY, APP_SECRET, URL_BASE):\n",
    "    global ACCESS_TOKEN, token_issue_time\n",
    "    headers = {\"content-type\": \"application/json\"}\n",
    "    body = {\n",
    "        \"grant_type\": \"client_credentials\",\n",
    "        \"appkey\": APP_KEY,\n",
    "        \"appsecret\": APP_SECRET\n",
    "    }\n",
    "    PATH = \"oauth2/tokenP\"\n",
    "    URL = f\"{URL_BASE}/{PATH}\"\n",
    "    res = requests.post(URL, headers=headers, data=json.dumps(body))\n",
    "    if res.status_code == 200:\n",
    "        ACCESS_TOKEN = res.json()[\"access_token\"]\n",
    "        token_issue_time = datetime.datetime.now(pytz.timezone('Asia/Seoul'))\n",
    "        return ACCESS_TOKEN\n",
    "    else:\n",
    "        raise Exception(\"Failed to get access token\")\n",
    "\n",
    "def ensure_token_valid(APP_KEY, APP_SECRET, URL_BASE):\n",
    "    global ACCESS_TOKEN, token_issue_time\n",
    "    if ACCESS_TOKEN is None or (datetime.datetime.now(pytz.timezone('Asia/Seoul')) - token_issue_time).total_seconds() >= TOKEN_VALIDITY_DURATION:\n",
    "        ACCESS_TOKEN = get_access_token(APP_KEY, APP_SECRET, URL_BASE)\n",
    "\n",
    "ensure_token_valid(APP_KEY, APP_SECRET, URL_BASE)\n",
    "PATH = \"uapi/domestic-stock/v1/quotations/inquire-price\"\n",
    "URL = f\"{URL_BASE}/{PATH}\"\n",
    "headers = {\n",
    "    \"Content-Type\": \"application/json\",\n",
    "    \"authorization\": f\"Bearer {ACCESS_TOKEN}\",\n",
    "    \"appKey\": APP_KEY,\n",
    "    \"appSecret\": APP_SECRET,\n",
    "    \"tr_id\": \"FHKST01010100\"\n",
    "}\n",
    "params = {\n",
    "    \"fid_cond_mrkt_div_code\": \"J\",\n",
    "    \"fid_input_iscd\": code,\n",
    "}\n",
    "res = requests.get(URL, headers=headers, params=params)\n",
    "\n",
    "print(res.json())"
   ]
  },
  {
   "cell_type": "code",
   "execution_count": 24,
   "metadata": {},
   "outputs": [],
   "source": [
    "ensure_token_valid(APP_KEY, APP_SECRET, URL_BASE)"
   ]
  },
  {
   "cell_type": "code",
   "execution_count": 17,
   "metadata": {},
   "outputs": [],
   "source": [
    "ACCESS_TOKEN=get_access_token(APP_KEY, APP_SECRET, URL_BASE)"
   ]
  },
  {
   "cell_type": "code",
   "execution_count": 28,
   "metadata": {},
   "outputs": [],
   "source": [
    "ACCESS_TOKEN"
   ]
  },
  {
   "cell_type": "code",
   "execution_count": 22,
   "metadata": {},
   "outputs": [
    {
     "name": "stdout",
     "output_type": "stream",
     "text": [
      "{'output': {'iscd_stat_cls_code': '55', 'marg_rate': '20.00', 'rprs_mrkt_kor_name': 'KOSPI200', 'bstp_kor_isnm': '전기.전자', 'temp_stop_yn': 'N', 'oprc_rang_cont_yn': 'N', 'clpr_rang_cont_yn': 'N', 'crdt_able_yn': 'Y', 'grmn_rate_cls_code': '40', 'elw_pblc_yn': 'Y', 'stck_prpr': '75800', 'prdy_vrss': '100', 'prdy_vrss_sign': '2', 'prdy_ctrt': '0.13', 'acml_tr_pbmn': '738084422500', 'acml_vol': '9779502', 'prdy_vrss_vol_rate': '62.26', 'stck_oprc': '74900', 'stck_hgpr': '76100', 'stck_lwpr': '74900', 'stck_mxpr': '98400', 'stck_llam': '53000', 'stck_sdpr': '75700', 'wghn_avrg_stck_prc': '75472.56', 'hts_frgn_ehrt': '55.33', 'frgn_ntby_qty': '0', 'pgtr_ntby_qty': '-941072', 'pvt_scnd_dmrs_prc': '77633', 'pvt_frst_dmrs_prc': '76666', 'pvt_pont_val': '75433', 'pvt_frst_dmsp_prc': '74466', 'pvt_scnd_dmsp_prc': '73233', 'dmrs_val': '77150', 'dmsp_val': '74950', 'cpfn': '7780', 'rstc_wdth_prc': '22700', 'stck_fcam': '100', 'stck_sspr': '60560', 'aspr_unit': '100', 'hts_deal_qty_unit_val': '1', 'lstn_stcn': '5969782550', 'hts_avls': '4525095', 'per': '35.57', 'pbr': '1.46', 'stac_month': '12', 'vol_tnrt': '0.16', 'eps': '2131.00', 'bps': '52002.00', 'd250_hgpr': '86000', 'd250_hgpr_date': '20240408', 'd250_hgpr_vrss_prpr_rate': '-11.86', 'd250_lwpr': '65800', 'd250_lwpr_date': '20230818', 'd250_lwpr_vrss_prpr_rate': '15.20', 'stck_dryy_hgpr': '86000', 'dryy_hgpr_vrss_prpr_rate': '-11.86', 'dryy_hgpr_date': '20240408', 'stck_dryy_lwpr': '70700', 'dryy_lwpr_vrss_prpr_rate': '7.21', 'dryy_lwpr_date': '20240118', 'w52_hgpr': '86000', 'w52_hgpr_vrss_prpr_ctrt': '-11.86', 'w52_hgpr_date': '20240408', 'w52_lwpr': '65800', 'w52_lwpr_vrss_prpr_ctrt': '15.20', 'w52_lwpr_date': '20230818', 'whol_loan_rmnd_rate': '0.16', 'ssts_yn': 'N', 'stck_shrn_iscd': '005930', 'fcam_cnnm': '100', 'cpfn_cnnm': '7,780 억', 'frgn_hldn_qty': '3303367414', 'vi_cls_code': 'N', 'ovtm_vi_cls_code': 'N', 'last_ssts_cntg_qty': '9585', 'invt_caful_yn': 'N', 'mrkt_warn_cls_code': '00', 'short_over_yn': 'N', 'sltr_yn': 'N'}, 'rt_cd': '0', 'msg_cd': 'MCA00000', 'msg1': '정상처리 되었습니다.'}\n"
     ]
    }
   ],
   "source": [
    "PATH = \"uapi/domestic-stock/v1/quotations/inquire-price\"\n",
    "URL = f\"{URL_BASE}/{PATH}\"\n",
    "headers = {\n",
    "    \"Content-Type\": \"application/json\",\n",
    "    \"authorization\": f\"Bearer {ACCESS_TOKEN}\",\n",
    "    \"appKey\": APP_KEY,\n",
    "    \"appSecret\": APP_SECRET,\n",
    "    \"tr_id\": \"FHKST01010100\"\n",
    "}\n",
    "params = {\n",
    "    \"fid_cond_mrkt_div_code\": \"J\",\n",
    "    \"fid_input_iscd\": code,\n",
    "}\n",
    "res = requests.get(URL, headers=headers, params=params)\n",
    "print(res.json())"
   ]
  },
  {
   "cell_type": "code",
   "execution_count": 26,
   "metadata": {},
   "outputs": [
    {
     "data": {
      "text/plain": [
       "False"
      ]
     },
     "execution_count": 26,
     "metadata": {},
     "output_type": "execute_result"
    }
   ],
   "source": [
    "ACCESS_TOKEN is None or (datetime.datetime.now(pytz.timezone('Asia/Seoul')) - token_issue_time).total_seconds() >= TOKEN_VALIDITY_DURATION"
   ]
  },
  {
   "cell_type": "code",
   "execution_count": 30,
   "metadata": {},
   "outputs": [
    {
     "name": "stdout",
     "output_type": "stream",
     "text": [
      "Collecting streamlit\n",
      "  Downloading streamlit-1.35.0-py2.py3-none-any.whl.metadata (8.5 kB)\n",
      "Collecting altair<6,>=4.0 (from streamlit)\n",
      "  Using cached altair-5.3.0-py3-none-any.whl.metadata (9.2 kB)\n",
      "Collecting blinker<2,>=1.0.0 (from streamlit)\n",
      "  Downloading blinker-1.8.2-py3-none-any.whl.metadata (1.6 kB)\n",
      "Collecting cachetools<6,>=4.0 (from streamlit)\n",
      "  Using cached cachetools-5.3.3-py3-none-any.whl.metadata (5.3 kB)\n",
      "Requirement already satisfied: click<9,>=7.0 in c:\\users\\horri\\anaconda3\\envs\\pytorch\\lib\\site-packages (from streamlit) (8.1.7)\n",
      "Requirement already satisfied: numpy<2,>=1.19.3 in c:\\users\\horri\\anaconda3\\envs\\pytorch\\lib\\site-packages (from streamlit) (1.26.0)\n",
      "Requirement already satisfied: packaging<25,>=16.8 in c:\\users\\horri\\appdata\\roaming\\python\\python311\\site-packages (from streamlit) (23.1)\n",
      "Requirement already satisfied: pandas<3,>=1.3.0 in c:\\users\\horri\\anaconda3\\envs\\pytorch\\lib\\site-packages (from streamlit) (2.1.3)\n",
      "Requirement already satisfied: pillow<11,>=7.1.0 in c:\\users\\horri\\anaconda3\\envs\\pytorch\\lib\\site-packages (from streamlit) (10.0.1)\n",
      "Requirement already satisfied: protobuf<5,>=3.20 in c:\\users\\horri\\anaconda3\\envs\\pytorch\\lib\\site-packages (from streamlit) (4.25.3)\n",
      "Requirement already satisfied: pyarrow>=7.0 in c:\\users\\horri\\anaconda3\\envs\\pytorch\\lib\\site-packages (from streamlit) (16.1.0)\n",
      "Requirement already satisfied: requests<3,>=2.27 in c:\\users\\horri\\anaconda3\\envs\\pytorch\\lib\\site-packages (from streamlit) (2.31.0)\n",
      "Requirement already satisfied: rich<14,>=10.14.0 in c:\\users\\horri\\anaconda3\\envs\\pytorch\\lib\\site-packages (from streamlit) (13.7.1)\n",
      "Collecting tenacity<9,>=8.1.0 (from streamlit)\n",
      "  Downloading tenacity-8.3.0-py3-none-any.whl.metadata (1.2 kB)\n",
      "Collecting toml<2,>=0.10.1 (from streamlit)\n",
      "  Using cached toml-0.10.2-py2.py3-none-any.whl.metadata (7.1 kB)\n",
      "Requirement already satisfied: typing-extensions<5,>=4.3.0 in c:\\users\\horri\\anaconda3\\envs\\pytorch\\lib\\site-packages (from streamlit) (4.9.0)\n",
      "Collecting gitpython!=3.1.19,<4,>=3.0.7 (from streamlit)\n",
      "  Using cached GitPython-3.1.43-py3-none-any.whl.metadata (13 kB)\n",
      "Collecting pydeck<1,>=0.8.0b4 (from streamlit)\n",
      "  Downloading pydeck-0.9.1-py2.py3-none-any.whl.metadata (4.1 kB)\n",
      "Requirement already satisfied: tornado<7,>=6.0.3 in c:\\users\\horri\\appdata\\roaming\\python\\python311\\site-packages (from streamlit) (6.3.3)\n",
      "Collecting watchdog>=2.1.5 (from streamlit)\n",
      "  Downloading watchdog-4.0.1-py3-none-win_amd64.whl.metadata (37 kB)\n",
      "Requirement already satisfied: jinja2 in c:\\users\\horri\\anaconda3\\envs\\pytorch\\lib\\site-packages (from altair<6,>=4.0->streamlit) (3.1.2)\n",
      "Requirement already satisfied: jsonschema>=3.0 in c:\\users\\horri\\anaconda3\\envs\\pytorch\\lib\\site-packages (from altair<6,>=4.0->streamlit) (4.19.2)\n",
      "Collecting toolz (from altair<6,>=4.0->streamlit)\n",
      "  Using cached toolz-0.12.1-py3-none-any.whl.metadata (5.1 kB)\n",
      "Requirement already satisfied: colorama in c:\\users\\horri\\appdata\\roaming\\python\\python311\\site-packages (from click<9,>=7.0->streamlit) (0.4.6)\n",
      "Collecting gitdb<5,>=4.0.1 (from gitpython!=3.1.19,<4,>=3.0.7->streamlit)\n",
      "  Using cached gitdb-4.0.11-py3-none-any.whl.metadata (1.2 kB)\n",
      "Requirement already satisfied: python-dateutil>=2.8.2 in c:\\users\\horri\\appdata\\roaming\\python\\python311\\site-packages (from pandas<3,>=1.3.0->streamlit) (2.8.2)\n",
      "Requirement already satisfied: pytz>=2020.1 in c:\\users\\horri\\anaconda3\\envs\\pytorch\\lib\\site-packages (from pandas<3,>=1.3.0->streamlit) (2023.3.post1)\n",
      "Requirement already satisfied: tzdata>=2022.1 in c:\\users\\horri\\anaconda3\\envs\\pytorch\\lib\\site-packages (from pandas<3,>=1.3.0->streamlit) (2023.3)\n",
      "Requirement already satisfied: charset-normalizer<4,>=2 in c:\\users\\horri\\anaconda3\\envs\\pytorch\\lib\\site-packages (from requests<3,>=2.27->streamlit) (2.0.4)\n",
      "Requirement already satisfied: idna<4,>=2.5 in c:\\users\\horri\\anaconda3\\envs\\pytorch\\lib\\site-packages (from requests<3,>=2.27->streamlit) (3.4)\n",
      "Requirement already satisfied: urllib3<3,>=1.21.1 in c:\\users\\horri\\anaconda3\\envs\\pytorch\\lib\\site-packages (from requests<3,>=2.27->streamlit) (1.26.18)\n",
      "Requirement already satisfied: certifi>=2017.4.17 in c:\\users\\horri\\anaconda3\\envs\\pytorch\\lib\\site-packages (from requests<3,>=2.27->streamlit) (2023.11.17)\n",
      "Requirement already satisfied: markdown-it-py>=2.2.0 in c:\\users\\horri\\anaconda3\\envs\\pytorch\\lib\\site-packages (from rich<14,>=10.14.0->streamlit) (3.0.0)\n",
      "Requirement already satisfied: pygments<3.0.0,>=2.13.0 in c:\\users\\horri\\appdata\\roaming\\python\\python311\\site-packages (from rich<14,>=10.14.0->streamlit) (2.16.1)\n",
      "Collecting smmap<6,>=3.0.1 (from gitdb<5,>=4.0.1->gitpython!=3.1.19,<4,>=3.0.7->streamlit)\n",
      "  Using cached smmap-5.0.1-py3-none-any.whl.metadata (4.3 kB)\n",
      "Requirement already satisfied: MarkupSafe>=2.0 in c:\\users\\horri\\anaconda3\\envs\\pytorch\\lib\\site-packages (from jinja2->altair<6,>=4.0->streamlit) (2.1.1)\n",
      "Requirement already satisfied: attrs>=22.2.0 in c:\\users\\horri\\anaconda3\\envs\\pytorch\\lib\\site-packages (from jsonschema>=3.0->altair<6,>=4.0->streamlit) (23.2.0)\n",
      "Requirement already satisfied: jsonschema-specifications>=2023.03.6 in c:\\users\\horri\\anaconda3\\envs\\pytorch\\lib\\site-packages (from jsonschema>=3.0->altair<6,>=4.0->streamlit) (2023.7.1)\n",
      "Requirement already satisfied: referencing>=0.28.4 in c:\\users\\horri\\anaconda3\\envs\\pytorch\\lib\\site-packages (from jsonschema>=3.0->altair<6,>=4.0->streamlit) (0.30.2)\n",
      "Requirement already satisfied: rpds-py>=0.7.1 in c:\\users\\horri\\anaconda3\\envs\\pytorch\\lib\\site-packages (from jsonschema>=3.0->altair<6,>=4.0->streamlit) (0.10.6)\n",
      "Requirement already satisfied: mdurl~=0.1 in c:\\users\\horri\\anaconda3\\envs\\pytorch\\lib\\site-packages (from markdown-it-py>=2.2.0->rich<14,>=10.14.0->streamlit) (0.1.2)\n",
      "Requirement already satisfied: six>=1.5 in c:\\users\\horri\\appdata\\roaming\\python\\python311\\site-packages (from python-dateutil>=2.8.2->pandas<3,>=1.3.0->streamlit) (1.16.0)\n",
      "Downloading streamlit-1.35.0-py2.py3-none-any.whl (8.6 MB)\n",
      "   ---------------------------------------- 0.0/8.6 MB ? eta -:--:--\n",
      "   ---------------------------------------- 0.0/8.6 MB 1.4 MB/s eta 0:00:07\n",
      "   - -------------------------------------- 0.3/8.6 MB 4.2 MB/s eta 0:00:02\n",
      "   --- ------------------------------------ 0.8/8.6 MB 7.6 MB/s eta 0:00:02\n",
      "   -------- ------------------------------- 1.8/8.6 MB 10.3 MB/s eta 0:00:01\n",
      "   ----------- ---------------------------- 2.5/8.6 MB 11.5 MB/s eta 0:00:01\n",
      "   -------------- ------------------------- 3.2/8.6 MB 11.9 MB/s eta 0:00:01\n",
      "   ----------------- ---------------------- 3.9/8.6 MB 12.9 MB/s eta 0:00:01\n",
      "   ------------------- -------------------- 4.3/8.6 MB 12.4 MB/s eta 0:00:01\n",
      "   ----------------------- ---------------- 5.1/8.6 MB 12.5 MB/s eta 0:00:01\n",
      "   -------------------------- ------------- 5.7/8.6 MB 13.0 MB/s eta 0:00:01\n",
      "   ----------------------------- ---------- 6.3/8.6 MB 13.0 MB/s eta 0:00:01\n",
      "   --------------------------------- ------ 7.3/8.6 MB 13.7 MB/s eta 0:00:01\n",
      "   --------------------------------- ------ 7.3/8.6 MB 13.7 MB/s eta 0:00:01\n",
      "   --------------------------------- ------ 7.3/8.6 MB 13.7 MB/s eta 0:00:01\n",
      "   --------------------------------- ------ 7.3/8.6 MB 13.7 MB/s eta 0:00:01\n",
      "   --------------------------------- ------ 7.3/8.6 MB 13.7 MB/s eta 0:00:01\n",
      "   --------------------------------- ------ 7.3/8.6 MB 13.7 MB/s eta 0:00:01\n",
      "   --------------------------------- ------ 7.3/8.6 MB 13.7 MB/s eta 0:00:01\n",
      "   --------------------------------- ------ 7.3/8.6 MB 13.7 MB/s eta 0:00:01\n",
      "   --------------------------------- ------ 7.3/8.6 MB 13.7 MB/s eta 0:00:01\n",
      "   --------------------------------- ------ 7.3/8.6 MB 13.7 MB/s eta 0:00:01\n",
      "   ------------------------------------- -- 8.1/8.6 MB 8.1 MB/s eta 0:00:01\n",
      "   ---------------------------------------  8.6/8.6 MB 8.4 MB/s eta 0:00:01\n",
      "   ---------------------------------------  8.6/8.6 MB 8.4 MB/s eta 0:00:01\n",
      "   ---------------------------------------- 8.6/8.6 MB 7.7 MB/s eta 0:00:00\n",
      "Using cached altair-5.3.0-py3-none-any.whl (857 kB)\n",
      "Downloading blinker-1.8.2-py3-none-any.whl (9.5 kB)\n",
      "Using cached cachetools-5.3.3-py3-none-any.whl (9.3 kB)\n",
      "Using cached GitPython-3.1.43-py3-none-any.whl (207 kB)\n",
      "Downloading pydeck-0.9.1-py2.py3-none-any.whl (6.9 MB)\n",
      "   ---------------------------------------- 0.0/6.9 MB ? eta -:--:--\n",
      "   ----- ---------------------------------- 1.0/6.9 MB 31.7 MB/s eta 0:00:01\n",
      "   ----------- ---------------------------- 2.0/6.9 MB 20.9 MB/s eta 0:00:01\n",
      "   -------------- ------------------------- 2.5/6.9 MB 20.0 MB/s eta 0:00:01\n",
      "   ------------------- -------------------- 3.4/6.9 MB 19.8 MB/s eta 0:00:01\n",
      "   --------------------- ------------------ 3.7/6.9 MB 18.0 MB/s eta 0:00:01\n",
      "   -------------------------- ------------- 4.5/6.9 MB 17.1 MB/s eta 0:00:01\n",
      "   ------------------------------- -------- 5.4/6.9 MB 17.1 MB/s eta 0:00:01\n",
      "   ---------------------------------- ----- 6.0/6.9 MB 16.6 MB/s eta 0:00:01\n",
      "   ---------------------------------------  6.8/6.9 MB 16.8 MB/s eta 0:00:01\n",
      "   ---------------------------------------  6.9/6.9 MB 16.3 MB/s eta 0:00:01\n",
      "   ---------------------------------------- 6.9/6.9 MB 13.8 MB/s eta 0:00:00\n",
      "Downloading tenacity-8.3.0-py3-none-any.whl (25 kB)\n",
      "Using cached toml-0.10.2-py2.py3-none-any.whl (16 kB)\n",
      "Downloading watchdog-4.0.1-py3-none-win_amd64.whl (83 kB)\n",
      "   ---------------------------------------- 0.0/83.0 kB ? eta -:--:--\n",
      "   ---------------------------------------- 83.0/83.0 kB 4.9 MB/s eta 0:00:00\n",
      "Using cached gitdb-4.0.11-py3-none-any.whl (62 kB)\n",
      "Using cached toolz-0.12.1-py3-none-any.whl (56 kB)\n",
      "Using cached smmap-5.0.1-py3-none-any.whl (24 kB)\n",
      "Installing collected packages: watchdog, toolz, toml, tenacity, smmap, cachetools, blinker, pydeck, gitdb, gitpython, altair, streamlit\n",
      "Successfully installed altair-5.3.0 blinker-1.8.2 cachetools-5.3.3 gitdb-4.0.11 gitpython-3.1.43 pydeck-0.9.1 smmap-5.0.1 streamlit-1.35.0 tenacity-8.3.0 toml-0.10.2 toolz-0.12.1 watchdog-4.0.1\n",
      "Note: you may need to restart the kernel to use updated packages.\n"
     ]
    },
    {
     "name": "stderr",
     "output_type": "stream",
     "text": [
      "  WARNING: The script watchmedo.exe is installed in 'c:\\Users\\horri\\anaconda3\\envs\\pytorch\\Scripts' which is not on PATH.\n",
      "  Consider adding this directory to PATH or, if you prefer to suppress this warning, use --no-warn-script-location.\n",
      "  WARNING: The script streamlit.exe is installed in 'c:\\Users\\horri\\anaconda3\\envs\\pytorch\\Scripts' which is not on PATH.\n",
      "  Consider adding this directory to PATH or, if you prefer to suppress this warning, use --no-warn-script-location.\n"
     ]
    }
   ],
   "source": [
    "pip install streamlit"
   ]
  },
  {
   "cell_type": "code",
   "execution_count": 43,
   "metadata": {},
   "outputs": [],
   "source": [
    "stock_code='036460'"
   ]
  },
  {
   "cell_type": "code",
   "execution_count": 44,
   "metadata": {},
   "outputs": [],
   "source": [
    "from stock2 import Stock"
   ]
  },
  {
   "cell_type": "code",
   "execution_count": 46,
   "metadata": {},
   "outputs": [
    {
     "name": "stderr",
     "output_type": "stream",
     "text": [
      "c:\\Users\\horri\\anaconda3\\envs\\pytorch\\Lib\\site-packages\\torch\\nn\\modules\\loss.py:535: UserWarning: Using a target size (torch.Size([16])) that is different to the input size (torch.Size([16, 1, 1])). This will likely lead to incorrect results due to broadcasting. Please ensure they have the same size.\n",
      "  return F.mse_loss(input, target, reduction=self.reduction)\n",
      "c:\\Users\\horri\\anaconda3\\envs\\pytorch\\Lib\\site-packages\\torch\\nn\\modules\\loss.py:535: UserWarning: Using a target size (torch.Size([4])) that is different to the input size (torch.Size([4, 1, 1])). This will likely lead to incorrect results due to broadcasting. Please ensure they have the same size.\n",
      "  return F.mse_loss(input, target, reduction=self.reduction)\n",
      "C:\\Users\\horri\\AppData\\Local\\Temp\\ipykernel_38860\\1293174437.py:34: FutureWarning: DataFrame.fillna with 'method' is deprecated and will raise in a future version. Use obj.ffill() or obj.bfill() instead.\n",
      "  df_get.fillna(method='ffill', inplace=True)\n",
      "C:\\Users\\horri\\AppData\\Local\\Temp\\ipykernel_38860\\1293174437.py:88: FutureWarning: Series.fillna with 'method' is deprecated and will raise in a future version. Use obj.ffill() or obj.bfill() instead.\n",
      "  df_get['Point'].fillna(method='ffill', inplace=True)\n",
      "C:\\Users\\horri\\AppData\\Local\\Temp\\ipykernel_38860\\1293174437.py:89: FutureWarning: Series.fillna with 'method' is deprecated and will raise in a future version. Use obj.ffill() or obj.bfill() instead.\n",
      "  df_get['Point2'].fillna(method='ffill', inplace=True)\n"
     ]
    },
    {
     "name": "stdout",
     "output_type": "stream",
     "text": [
      "매수\n",
      "매도\n",
      "매수\n",
      "매도\n",
      "매수\n",
      "매도\n",
      "매수\n",
      "매도\n",
      "매수\n",
      "매도\n",
      "매수\n",
      "매도\n",
      "매수\n",
      "매도\n",
      "매수\n",
      "매도\n",
      "매수\n",
      "매도\n",
      "총 보유금: 1000000, 총 수익: 11300.0, 총 수익률: 34.53%, 매매횟수: 9\n"
     ]
    }
   ],
   "source": [
    "\n",
    "# 주식 데이터 가져오기 및 차트 표시\n",
    "\n",
    "now = datetime.datetime.now(pytz.timezone('Asia/Seoul'))\n",
    "tick = yf.Ticker(stock_code+'.KS')\n",
    "df_get = tick.history(start=now - datetime.timedelta(days=7), end=now, interval='1m')\n",
    "df_pred = tick.history(start=now - datetime.timedelta(days=10), end=now, interval='1h')\n",
    "if df_get.empty:\n",
    "    tick = yf.Ticker(stock_code+'.KQ')\n",
    "    df_get = tick.history(start=now - datetime.timedelta(days=7), end=now, interval='1m')\n",
    "    df_pred = tick.history(start=now - datetime.timedelta(days=10), end=now, interval='1h')\n",
    "stock=Stock(df_pred)\n",
    "df_pred=stock.preprocessing()\n",
    "stock.add_change(['High', 'Low', 'Open', 'Close', 'Volume'])\n",
    "stock.df.loc[stock.df['Volume_chg']==np.inf,'Volume_chg']=0\n",
    "stock.scale_col(['Close_chg', 'High_chg', 'Low_chg', 'Open_chg', 'Volume_chg']) # 종가(변화율)\n",
    "train_loader=stock.data_loader(5, 't')\n",
    "valid_loader=stock.data_loader(5, 't')\n",
    "test_loader=stock.data_loader(5, 't')\n",
    "stock.create_model()\n",
    "stock.model.load_state_dict(torch.load('chg_close_loss.pth'))\n",
    "stock.train(train_loader, valid_loader, test_loader, 7, 0.001, 80, 'test')\n",
    "pred=stock.pred_value('t')\n",
    "# stock.diff()\n",
    "# stock.show('chg')\n",
    "\n",
    "# 데이터셋 예측값 합치기\n",
    "stock.df=df_get.copy()\n",
    "df_get=stock.preprocessing()\n",
    "df_pred['pred']=0\n",
    "df_pred.iloc[len(df_pred)-len(pred):,-1]=pred\n",
    "df_get['key']=pd.to_datetime(df_get.index).strftime('%d-%H')\n",
    "df_pred['key']=pd.to_datetime(df_pred.index).strftime('%d-%H')\n",
    "df_get.loc[:,'pred']=pd.merge(df_get[['key']], df_pred[['key', 'pred']], how='left', on='Datetime')['pred']\n",
    "df_get.fillna(method='ffill', inplace=True)\n",
    "df_get[pd.to_datetime(df_get.index).strftime('%M')=='00']\n",
    "\n",
    "# short=60\n",
    "# long=2\n",
    "\n",
    "# # 이평선\n",
    "# df_get['4H_MA'] = df_get['Close'].rolling(window=short).mean()\n",
    "# df_get['8H_MA'] = df_get['Close'].rolling(window=short*long).mean()\n",
    "# # 이전 행의 4H_MA와 8H_MA 비교를 위해 shift() 사용\n",
    "# df_get['Previous_4H_MA'] = df_get['4H_MA'].shift(1)\n",
    "# df_get['Previous_8H_MA'] = df_get['8H_MA'].shift(1)\n",
    "\n",
    "# 매수 조건: 이전 4H_MA <= 이전 8H_MA 이고 현재 4H_MA > 현재 8H_MA\n",
    "# df_get['Buy_Signal'] = (df_get['Previous_4H_MA'] <= df_get['Previous_8H_MA']) & (df_get['4H_MA'] > df_get['8H_MA'])\n",
    "\n",
    "# 매도 조건: 각 시간대의 마지막 분(59분)에 매도\n",
    "# df_get['Sell_Signal'] = pd.to_datetime(df_get.index).minute == 59\n",
    "# df_get['Sell_Signal'] = (df_get['Previous_4H_MA'] >= df_get['Previous_8H_MA']) & (df_get['4H_MA'] < df_get['8H_MA'])\n",
    "\n",
    "# results=[]\n",
    "# moneys=[]\n",
    "# money=[]\n",
    "# first=[]\n",
    "# key=False\n",
    "# for i, row in df_get.iterrows():\n",
    "#     if row['Buy_Signal'] and row['Open']<=row['pred']:\n",
    "#         money.append(row['Open'])\n",
    "#         key=True\n",
    "#     if (row['Sell_Signal'] or row['Open']>row['pred']) and key:\n",
    "#         results.append((row['Close']-money[0])/money[0]*100)\n",
    "#         moneys.append(row['Close']-money[0])\n",
    "#         first.append(money[0])\n",
    "#         money=[]\n",
    "#         key=False\n",
    "# try:\n",
    "#     print('-'*100)\n",
    "#     print(f'이동평균선 / {name}')\n",
    "#     print(f'모델 수익률: {round(sum(moneys)/first[0]*100, 3)}%')\n",
    "#     print(f'모델 수익: {int(sum(moneys))}')\n",
    "#     print(f'수수료 포함 수익률: {round(sum(moneys)/first[0]*100-len(moneys)*0.2,3)}%')\n",
    "#     print(f'buy & hold 수익률: {round((df_get.iloc[-1,3]-df_get.iloc[0,0])/df_get.iloc[0,0]*100, 3)}%')\n",
    "#     print(f'buy & hold 수익: {int(df_get.iloc[-1,3]-df_get.iloc[0,0])}')\n",
    "#     print(f'매매횟수: {len(moneys)}')\n",
    "# except:\n",
    "#     print('매매하지 않음')\n",
    "\n",
    "\n",
    "k=0.5\n",
    "# 변동성 돌파 전략\n",
    "df_pred['Point']=(df_pred['High'].shift(1)-df_pred['Low'].shift(1))*k+df_pred['Open']\n",
    "df_pred['Point2']=-(df_pred['High'].shift(1)-df_pred['Low'].shift(1))*k+df_pred['Open']\n",
    "df_get['Point']=pd.merge(df_get[['key']], df_pred[['key', 'Point']], how='left', on='Datetime')['Point']\n",
    "df_get['Point2']=pd.merge(df_get[['key']], df_pred[['key', 'Point2']], how='left', on='Datetime')['Point2']\n",
    "df_get['Point'].fillna(method='ffill', inplace=True)\n",
    "df_get['Point2'].fillna(method='ffill', inplace=True)\n",
    "\n",
    "df_get['Buy_Signal'] = (df_get['Point'] <= df_get['Open'])\n",
    "df_get['Sell_Signal'] = (df_get['Point2'] > df_get['Open'])\n",
    "\n",
    "moneys=0\n",
    "money=0\n",
    "first=[]\n",
    "key=False\n",
    "profit=0\n",
    "total_profit=0\n",
    "total_cash=1000000\n",
    "\n",
    "for i, row in df_get.iterrows():\n",
    "    if row['Buy_Signal'] and row['Open']<=row['pred'] and key == False:\n",
    "        #send_message(\"매수 신호 발생\", DISCORD_WEBHOOK_URL)\n",
    "        money=row['Open']\n",
    "        buy_qty = int(total_cash*0.9 // int(money))\n",
    "        key=True\n",
    "        first.append(money)\n",
    "        # send_message(f\"{stock_code} 종목 {money}에 {buy_qty}만큼 매수 완료\", DISCORD_WEBHOOK_URL)\n",
    "        # st.write(f\"{stock_code} 종목 {money}에 {buy_qty}만큼 매수 완료\")\n",
    "        print('매수')\n",
    "    if key and (row['Sell_Signal'] or row['Open']>row['pred']):\n",
    "        # send_message(\"매도 신호 발생\", DISCORD_WEBHOOK_URL)\n",
    "        moneys+=row['Close']-money\n",
    "        key=False\n",
    "        profit = ((row['Close'] - money) / money) * 100 - 0.2\n",
    "        total_profit+=profit\n",
    "        #send_message(f\"{stock_code} 종목 {row['Close']}에 {buy_qty}만큼 매도 완료\", DISCORD_WEBHOOK_URL)\n",
    "        #st.write(f\"{stock_code} 종목 {row['Close']}에 {buy_qty}만큼 매도 완료, 잔액: {total_cash}\")\n",
    "        #profit_display.write(f\"매도 후 수익률: {total_profit:.2f}%\")\n",
    "        print('매도')\n",
    "if key:\n",
    "    first.pop()\n",
    "    \n",
    "if len(first)>0:\n",
    "    #send_message(f\"총 보유금: {total_cash}, 총 수익: {moneys}, 총 수익률: {total_profit:.2f}%, 매매횟수: {len(first)}\", DISCORD_WEBHOOK_URL)\n",
    "    #st.write(f\"총 보유금: {total_cash}, 총 수익: {moneys}, 총 수익률: {total_profit:.2f}%, 매매횟수: {len(first)}\")\n",
    "    print(f\"총 보유금: {total_cash}, 총 수익: {moneys}, 총 수익률: {total_profit:.2f}%, 매매횟수: {len(first)}\")\n",
    "else:\n",
    "    #send_message(f\"매매하지 않음\", DISCORD_WEBHOOK_URL)\n",
    "    #st.write(f\"매매하지 않음\")\n",
    "    print(\"매매x\")"
   ]
  },
  {
   "cell_type": "code",
   "execution_count": 41,
   "metadata": {},
   "outputs": [
    {
     "data": {
      "text/plain": [
       "array([[5.69092261e-02, 1.88796086e-02, 7.50730994e-01, 1.95627922e-01,\n",
       "        0.00000000e+00],\n",
       "       [2.83307178e-02, 9.64892912e-02, 1.00000000e+00, 1.00000000e+00,\n",
       "        1.04936563e-02],\n",
       "       [0.00000000e+00, 0.00000000e+00, 2.89855072e-03, 0.00000000e+00,\n",
       "        3.41806901e-04],\n",
       "       [2.83307178e-02, 1.88796086e-02, 0.00000000e+00, 3.95845355e-01,\n",
       "        1.80590155e-03],\n",
       "       [1.00000000e+00, 1.00000000e+00, 5.00000000e-01, 3.95845355e-01,\n",
       "        1.00000000e+00]])"
      ]
     },
     "execution_count": 41,
     "metadata": {},
     "output_type": "execute_result"
    }
   ],
   "source": [
    "stock.data"
   ]
  },
  {
   "cell_type": "code",
   "execution_count": 37,
   "metadata": {},
   "outputs": [
    {
     "data": {
      "text/plain": [
       "<torch.utils.data.dataset.TensorDataset at 0x250617a8690>"
      ]
     },
     "execution_count": 37,
     "metadata": {},
     "output_type": "execute_result"
    }
   ],
   "source": [
    "stock.data_loader(5,'t').dataset"
   ]
  },
  {
   "cell_type": "code",
   "execution_count": 27,
   "metadata": {},
   "outputs": [
    {
     "data": {
      "text/plain": [
       "array([[5.69092261e-02, 1.88796086e-02, 7.50730994e-01, 1.95627922e-01,\n",
       "        0.00000000e+00],\n",
       "       [2.83307178e-02, 9.64892912e-02, 1.00000000e+00, 1.00000000e+00,\n",
       "        1.04936563e-02],\n",
       "       [0.00000000e+00, 0.00000000e+00, 2.89855072e-03, 0.00000000e+00,\n",
       "        3.41806901e-04],\n",
       "       [2.83307178e-02, 1.88796086e-02, 0.00000000e+00, 3.95845355e-01,\n",
       "        1.80590155e-03],\n",
       "       [1.00000000e+00, 1.00000000e+00, 5.00000000e-01, 3.95845355e-01,\n",
       "        1.00000000e+00]])"
      ]
     },
     "execution_count": 27,
     "metadata": {},
     "output_type": "execute_result"
    }
   ],
   "source": [
    "stock.data"
   ]
  },
  {
   "cell_type": "code",
   "execution_count": 25,
   "metadata": {},
   "outputs": [],
   "source": [
    "import numpy as np\n",
    "import pandas as pd\n",
    "from sklearn.preprocessing import MinMaxScaler\n",
    "from sklearn.model_selection import train_test_split\n",
    "import torch\n",
    "import torch.nn as nn\n",
    "from torch.utils.data import DataLoader, TensorDataset\n",
    "from transformers import PatchTSTConfig, PatchTSTForPrediction\n",
    "import torch.optim as optim"
   ]
  },
  {
   "cell_type": "code",
   "execution_count": 26,
   "metadata": {},
   "outputs": [],
   "source": [
    "def create_sequences(self, data, seq_length):\n",
    "    xs, ys = [], []\n",
    "    for i in range(len(data)-seq_length):\n",
    "        x = data[i:(i+seq_length), ]\n",
    "        y = data[i+seq_length, 0]  # 예측하려는 값을 0에 배치\n",
    "        xs.append(x)\n",
    "        ys.append(y)\n",
    "    return np.array(xs), np.array(ys)\n",
    "\n",
    "def data_loader(self, seq_len, type='train'):\n",
    "    self.seq_len=seq_len\n",
    "    train_size = int(len(self.data) * 0.7)\n",
    "    val_size = int(len(self.data) * 0.2)\n",
    "    test_size = len(self.data) - train_size - val_size\n",
    "    self.train_losses=[]\n",
    "    self.val_losses=[]\n",
    "\n",
    "    if type=='train':\n",
    "        X, y = self.create_sequences(self.data[:train_size], seq_len)\n",
    "    elif type=='valid':\n",
    "        X, y = self.create_sequences(self.data[train_size:train_size+val_size], seq_len)\n",
    "    elif type=='test':\n",
    "        X, y = self.create_sequences(self.data[train_size+val_size:], seq_len)\n",
    "    else:\n",
    "        X, y = self.create_sequences(self.data, seq_len)\n",
    "            \n",
    "    X = torch.tensor(X, dtype=torch.float32)\n",
    "    y = torch.tensor(y, dtype=torch.float32)\n",
    "\n",
    "    data = TensorDataset(X, y)\n",
    "    data_loader = DataLoader(dataset=data, batch_size=16, shuffle=False)\n",
    "\n",
    "    return data_loader"
   ]
  },
  {
   "cell_type": "code",
   "execution_count": 9,
   "metadata": {},
   "outputs": [],
   "source": [
    "import datetime\n",
    "import pytz\n",
    "import yfinance as yf"
   ]
  },
  {
   "cell_type": "code",
   "execution_count": 3,
   "metadata": {},
   "outputs": [],
   "source": [
    "import numpy as np\n",
    "import pandas as pd\n",
    "import torch"
   ]
  },
  {
   "cell_type": "code",
   "execution_count": null,
   "metadata": {},
   "outputs": [],
   "source": []
  }
 ],
 "metadata": {
  "kernelspec": {
   "display_name": "pytorch",
   "language": "python",
   "name": "python3"
  },
  "language_info": {
   "codemirror_mode": {
    "name": "ipython",
    "version": 3
   },
   "file_extension": ".py",
   "mimetype": "text/x-python",
   "name": "python",
   "nbconvert_exporter": "python",
   "pygments_lexer": "ipython3",
   "version": "3.11.5"
  }
 },
 "nbformat": 4,
 "nbformat_minor": 2
}
